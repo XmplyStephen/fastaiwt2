{
 "cells": [
  {
   "cell_type": "markdown",
   "id": "e095c2c2-db9a-4cce-bd2f-dd663b070dd5",
   "metadata": {},
   "source": [
    "## Walk through Samle Notebook"
   ]
  },
  {
   "cell_type": "markdown",
   "id": "e293e0d1-f4c9-413a-b528-7fe1a36c0f48",
   "metadata": {},
   "source": [
    "Here is how I calculate "
   ]
  },
  {
   "cell_type": "code",
   "execution_count": 1,
   "id": "adb0ad87-204f-4e8a-b657-b909103542d8",
   "metadata": {},
   "outputs": [
    {
     "data": {
      "text/plain": [
       "2"
      ]
     },
     "execution_count": 1,
     "metadata": {},
     "output_type": "execute_result"
    }
   ],
   "source": [
    "1+1"
   ]
  },
  {
   "cell_type": "code",
   "execution_count": null,
   "id": "24a9c7f0-10bd-4450-af39-58538938e81b",
   "metadata": {},
   "outputs": [],
   "source": []
  }
 ],
 "metadata": {
  "kernelspec": {
   "display_name": "Python 3 (ipykernel)",
   "language": "python",
   "name": "python3"
  },
  "language_info": {
   "codemirror_mode": {
    "name": "ipython",
    "version": 3
   },
   "file_extension": ".py",
   "mimetype": "text/x-python",
   "name": "python",
   "nbconvert_exporter": "python",
   "pygments_lexer": "ipython3",
   "version": "3.10.14"
  }
 },
 "nbformat": 4,
 "nbformat_minor": 5
}
